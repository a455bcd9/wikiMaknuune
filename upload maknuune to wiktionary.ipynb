{
 "cells": [
  {
   "cell_type": "code",
   "execution_count": 1,
   "id": "31cc8263",
   "metadata": {},
   "outputs": [],
   "source": [
    "import csv\n",
    "import pprint\n",
    "import pandas as pd\n",
    "import pywikibot\n",
    "import re\n",
    "from string import punctuation\n",
    "import urllib.request, json\n",
    "import urllib.parse\n",
    "\n",
    "from caphi2ipa import caphipp2ipa"
   ]
  },
  {
   "cell_type": "markdown",
   "id": "4a90c3b3",
   "metadata": {},
   "source": [
    "# To do"
   ]
  },
  {
   "cell_type": "markdown",
   "id": "0731808a",
   "metadata": {},
   "source": [
    "* Singular nouns entries\n",
    "    * Add plurals\n",
    "* Loop over lemma (instead of PoS) and create multi-term entries\n",
    "    * 87 + 107 https://en.wiktionary.org/w/index.php?title=User%3AA455bcd9%2FMaknuune%2F%D8%A3%D8%AE%D8%B0&diff=prev&oldid=70822528&diffmode=source\n",
    "    * 7985 + 7988 https://en.wiktionary.org/w/index.php?title=User%3AA455bcd9%2FMaknuune%2F%D8%AE%D8%B1%D9%82%D8%A9&diff=prev&oldid=70822545&diffmode=source\n",
    "* Plural nouns entries\n",
    "* Adjectives\n",
    "* Active participles (NOUN_ACT:MS)\n",
    "* Passive participles (NOUN_PASS)\n",
    "* INTERJ\n",
    "* ADV\n",
    "* Check entries already in Wiktionary\n",
    "* NOUN:PHRASE\n",
    "* Verbs\n",
    "* VERB:PHRASE\n",
    "* Issues:\n",
    "    * شرعية: WARNING: API warning (edit): The value passed for \"text\" contains invalid or non-normalized data. Textual data should be valid, NFC-normalized Unicode without C0 control characters other than HT (\\t), LF (\\n), and CR (\\r)."
   ]
  },
  {
   "cell_type": "markdown",
   "id": "fd6d59bb",
   "metadata": {},
   "source": [
    "# Read TSV"
   ]
  },
  {
   "cell_type": "code",
   "execution_count": 7,
   "id": "a8f0f92d",
   "metadata": {},
   "outputs": [],
   "source": [
    "maknuune_file = \"maknuune-v1.0.1.tsv\"\n",
    "\n",
    "singular_nouns = ['NOUN:MS', 'NOUN:FS']\n",
    "\n",
    "df = pd.read_csv(maknuune_file,sep='\\t')"
   ]
  },
  {
   "cell_type": "markdown",
   "id": "35ca7a32",
   "metadata": {},
   "source": [
    "# Stats by PoS"
   ]
  },
  {
   "cell_type": "code",
   "execution_count": 8,
   "id": "58d672ad",
   "metadata": {},
   "outputs": [
    {
     "data": {
      "text/plain": [
       "ANALYSIS\n",
       "VERB:I             6345\n",
       "VERB:C             6329\n",
       "VERB:P             6191\n",
       "NOUN:MS            4183\n",
       "NOUN:FS            3050\n",
       "ADJ:MS             2388\n",
       "NOUN:PHRASE        2343\n",
       "NOUN:P             1894\n",
       "NOUN_ACT:MS         759\n",
       "VERB:PHRASE         639\n",
       "NOUN_PASS           305\n",
       "ADJ:P               288\n",
       "ADJ:PHRASE          249\n",
       "NOUN_ACT:PHRASE     117\n",
       "ADJ/NOUN            108\n",
       "INTERJ              106\n",
       "ADJ:FS               78\n",
       "ADJ_COMP             77\n",
       "ADV                  71\n",
       "NOUN_PROP            65\n",
       "Name: ANALYSIS, dtype: int64"
      ]
     },
     "execution_count": 8,
     "metadata": {},
     "output_type": "execute_result"
    }
   ],
   "source": [
    "df_count = df.groupby(['ANALYSIS'])['ANALYSIS'].count()\n",
    "df_count.loc[lambda x : x > 50].sort_values(ascending=False)"
   ]
  },
  {
   "cell_type": "markdown",
   "id": "72c2c641",
   "metadata": {},
   "source": [
    "# First: singular nouns deriving from a root and without notes "
   ]
  },
  {
   "cell_type": "code",
   "execution_count": 9,
   "id": "ea773e75",
   "metadata": {
    "scrolled": true
   },
   "outputs": [
    {
     "data": {
      "text/html": [
       "<div>\n",
       "<style scoped>\n",
       "    .dataframe tbody tr th:only-of-type {\n",
       "        vertical-align: middle;\n",
       "    }\n",
       "\n",
       "    .dataframe tbody tr th {\n",
       "        vertical-align: top;\n",
       "    }\n",
       "\n",
       "    .dataframe thead th {\n",
       "        text-align: right;\n",
       "    }\n",
       "</style>\n",
       "<table border=\"1\" class=\"dataframe\">\n",
       "  <thead>\n",
       "    <tr style=\"text-align: right;\">\n",
       "      <th></th>\n",
       "      <th>ID</th>\n",
       "      <th>ROOT</th>\n",
       "      <th>ROOT_NTWS</th>\n",
       "      <th>ROOT_1</th>\n",
       "      <th>LEMMA</th>\n",
       "      <th>LEMMA_SEARCH</th>\n",
       "      <th>FORM</th>\n",
       "      <th>LEMMA_BW</th>\n",
       "      <th>FORM_BW</th>\n",
       "      <th>CAPHI++</th>\n",
       "      <th>ANALYSIS</th>\n",
       "      <th>GLOSS</th>\n",
       "      <th>GLOSS_MSA</th>\n",
       "      <th>EXAMPLE_USAGE</th>\n",
       "      <th>NOTES</th>\n",
       "      <th>SOURCE</th>\n",
       "      <th>ANNOTATOR</th>\n",
       "      <th>Unnamed: 17</th>\n",
       "      <th>Unnamed: 18</th>\n",
       "      <th>Unnamed: 19</th>\n",
       "    </tr>\n",
       "  </thead>\n",
       "  <tbody>\n",
       "    <tr>\n",
       "      <th>0</th>\n",
       "      <td>1</td>\n",
       "      <td>ء.ب.د</td>\n",
       "      <td>NaN</td>\n",
       "      <td>ء</td>\n",
       "      <td>أَبَد</td>\n",
       "      <td>أبد</td>\n",
       "      <td>أَبَد</td>\n",
       "      <td>&gt;abad</td>\n",
       "      <td>&gt;abad</td>\n",
       "      <td>2 a b a d</td>\n",
       "      <td>NOUN:MS</td>\n",
       "      <td>eternity;forever</td>\n",
       "      <td>NaN</td>\n",
       "      <td>NaN</td>\n",
       "      <td>NaN</td>\n",
       "      <td>NaN</td>\n",
       "      <td>شهد دعباس</td>\n",
       "      <td>NaN</td>\n",
       "      <td>NaN</td>\n",
       "      <td>NaN</td>\n",
       "    </tr>\n",
       "    <tr>\n",
       "      <th>1</th>\n",
       "      <td>2</td>\n",
       "      <td>ء.ب.ر</td>\n",
       "      <td>NaN</td>\n",
       "      <td>ء</td>\n",
       "      <td>إِبْرِة</td>\n",
       "      <td>إبرة</td>\n",
       "      <td>إِبْرِة</td>\n",
       "      <td>&lt;iborip</td>\n",
       "      <td>&lt;iborip</td>\n",
       "      <td>2 i b r e</td>\n",
       "      <td>NOUN:FS</td>\n",
       "      <td>needle;injection</td>\n",
       "      <td>إِبْرَة#حُقْنَة</td>\n",
       "      <td>في إِبْرِة وقعت تحت الكنب دير بالك.#أخذت ابرة ...</td>\n",
       "      <td>NaN</td>\n",
       "      <td>NaN</td>\n",
       "      <td>شهد دعباس</td>\n",
       "      <td>NaN</td>\n",
       "      <td>NaN</td>\n",
       "      <td>NaN</td>\n",
       "    </tr>\n",
       "    <tr>\n",
       "      <th>7</th>\n",
       "      <td>8</td>\n",
       "      <td>ء.ب.ط</td>\n",
       "      <td>NaN</td>\n",
       "      <td>ء</td>\n",
       "      <td>أَبَاط</td>\n",
       "      <td>أباط</td>\n",
       "      <td>أَبَاط</td>\n",
       "      <td>&gt;abaAT</td>\n",
       "      <td>&gt;abaAT</td>\n",
       "      <td>2 a b aa t.</td>\n",
       "      <td>NOUN:MS</td>\n",
       "      <td>armpit</td>\n",
       "      <td>إِبْط</td>\n",
       "      <td>ولك ليش أباطك أسود هيك؟</td>\n",
       "      <td>NaN</td>\n",
       "      <td>NaN</td>\n",
       "      <td>شهد دعباس</td>\n",
       "      <td>NaN</td>\n",
       "      <td>NaN</td>\n",
       "      <td>NaN</td>\n",
       "    </tr>\n",
       "    <tr>\n",
       "      <th>8</th>\n",
       "      <td>9</td>\n",
       "      <td>ء.ب.ط</td>\n",
       "      <td>NaN</td>\n",
       "      <td>ء</td>\n",
       "      <td>بَاط</td>\n",
       "      <td>باط</td>\n",
       "      <td>بَاط</td>\n",
       "      <td>baAT</td>\n",
       "      <td>baAT</td>\n",
       "      <td>b aa t.</td>\n",
       "      <td>NOUN:MS</td>\n",
       "      <td>armpit</td>\n",
       "      <td>إِبْط</td>\n",
       "      <td>NaN</td>\n",
       "      <td>NaN</td>\n",
       "      <td>NaN</td>\n",
       "      <td>شهد دعباس</td>\n",
       "      <td>NaN</td>\n",
       "      <td>NaN</td>\n",
       "      <td>NaN</td>\n",
       "    </tr>\n",
       "    <tr>\n",
       "      <th>10</th>\n",
       "      <td>11</td>\n",
       "      <td>ء.ب.و</td>\n",
       "      <td>NaN</td>\n",
       "      <td>ء</td>\n",
       "      <td>أَب</td>\n",
       "      <td>أب</td>\n",
       "      <td>أَب</td>\n",
       "      <td>&gt;ab</td>\n",
       "      <td>&gt;ab</td>\n",
       "      <td>2 a b</td>\n",
       "      <td>NOUN:MS</td>\n",
       "      <td>father</td>\n",
       "      <td>أب</td>\n",
       "      <td>الله يرحمه أبوه بقى زلمة مليح وبينشد فيه الظهر</td>\n",
       "      <td>NaN</td>\n",
       "      <td>NaN</td>\n",
       "      <td>شهد دعباس</td>\n",
       "      <td>NaN</td>\n",
       "      <td>NaN</td>\n",
       "      <td>NaN</td>\n",
       "    </tr>\n",
       "    <tr>\n",
       "      <th>...</th>\n",
       "      <td>...</td>\n",
       "      <td>...</td>\n",
       "      <td>...</td>\n",
       "      <td>...</td>\n",
       "      <td>...</td>\n",
       "      <td>...</td>\n",
       "      <td>...</td>\n",
       "      <td>...</td>\n",
       "      <td>...</td>\n",
       "      <td>...</td>\n",
       "      <td>...</td>\n",
       "      <td>...</td>\n",
       "      <td>...</td>\n",
       "      <td>...</td>\n",
       "      <td>...</td>\n",
       "      <td>...</td>\n",
       "      <td>...</td>\n",
       "      <td>...</td>\n",
       "      <td>...</td>\n",
       "      <td>...</td>\n",
       "    </tr>\n",
       "    <tr>\n",
       "      <th>36039</th>\n",
       "      <td>36263</td>\n",
       "      <td>ي.م.ن</td>\n",
       "      <td>NaN</td>\n",
       "      <td>ي</td>\n",
       "      <td>يَمِين</td>\n",
       "      <td>يمين</td>\n",
       "      <td>يَمِين</td>\n",
       "      <td>yamiyn</td>\n",
       "      <td>yamiyn</td>\n",
       "      <td>y a m ii n</td>\n",
       "      <td>NOUN:MS</td>\n",
       "      <td>right</td>\n",
       "      <td>يمين</td>\n",
       "      <td>روتش لك شوي لليمين</td>\n",
       "      <td>NaN</td>\n",
       "      <td>NaN</td>\n",
       "      <td>شهد دعباس</td>\n",
       "      <td>NaN</td>\n",
       "      <td>NaN</td>\n",
       "      <td>NaN</td>\n",
       "    </tr>\n",
       "    <tr>\n",
       "      <th>36040</th>\n",
       "      <td>36264</td>\n",
       "      <td>ي.م.ن</td>\n",
       "      <td>NaN</td>\n",
       "      <td>ي</td>\n",
       "      <td>يَمِين</td>\n",
       "      <td>يمين</td>\n",
       "      <td>يَمِين</td>\n",
       "      <td>yamiyn</td>\n",
       "      <td>yamiyn</td>\n",
       "      <td>y a m ii n</td>\n",
       "      <td>NOUN:MS</td>\n",
       "      <td>vow;oath</td>\n",
       "      <td>NaN</td>\n",
       "      <td>احلف يَمِين إِنه مالكاش دخَّل!</td>\n",
       "      <td>NaN</td>\n",
       "      <td>NaN</td>\n",
       "      <td>شهد دعباس</td>\n",
       "      <td>NaN</td>\n",
       "      <td>NaN</td>\n",
       "      <td>NaN</td>\n",
       "    </tr>\n",
       "    <tr>\n",
       "      <th>36044</th>\n",
       "      <td>36268</td>\n",
       "      <td>ي.م.ن</td>\n",
       "      <td>NaN</td>\n",
       "      <td>ي</td>\n",
       "      <td>يُمُن</td>\n",
       "      <td>يمن</td>\n",
       "      <td>يُمُن</td>\n",
       "      <td>yumun</td>\n",
       "      <td>yumun</td>\n",
       "      <td>y u m u n</td>\n",
       "      <td>NOUN:MS</td>\n",
       "      <td>blessing</td>\n",
       "      <td>نِعْمَة</td>\n",
       "      <td>ألف مبارك الشهر وكل عام وانتو بخير وان شاء الل...</td>\n",
       "      <td>NaN</td>\n",
       "      <td>NaN</td>\n",
       "      <td>شهد دعباس</td>\n",
       "      <td>NaN</td>\n",
       "      <td>NaN</td>\n",
       "      <td>NaN</td>\n",
       "    </tr>\n",
       "    <tr>\n",
       "      <th>36056</th>\n",
       "      <td>36280</td>\n",
       "      <td>ي.و.م</td>\n",
       "      <td>NaN</td>\n",
       "      <td>ي</td>\n",
       "      <td>يَومِيِّة</td>\n",
       "      <td>يومية</td>\n",
       "      <td>يَومِيِّة</td>\n",
       "      <td>yawmiy~ip</td>\n",
       "      <td>yawmiy~ip</td>\n",
       "      <td>y oo m i y y e</td>\n",
       "      <td>NOUN:FS</td>\n",
       "      <td>daily_payment</td>\n",
       "      <td>دفع بنظام المياومة</td>\n",
       "      <td>NaN</td>\n",
       "      <td>NaN</td>\n",
       "      <td>NaN</td>\n",
       "      <td>شهد دعباس</td>\n",
       "      <td>NaN</td>\n",
       "      <td>NaN</td>\n",
       "      <td>NaN</td>\n",
       "    </tr>\n",
       "    <tr>\n",
       "      <th>36057</th>\n",
       "      <td>36281</td>\n",
       "      <td>ي.و.م</td>\n",
       "      <td>NaN</td>\n",
       "      <td>ي</td>\n",
       "      <td>يَوم</td>\n",
       "      <td>يوم</td>\n",
       "      <td>يَوم</td>\n",
       "      <td>yawm</td>\n",
       "      <td>yawm</td>\n",
       "      <td>y oo m</td>\n",
       "      <td>NOUN:MS</td>\n",
       "      <td>day</td>\n",
       "      <td>يَوْم</td>\n",
       "      <td>NaN</td>\n",
       "      <td>NaN</td>\n",
       "      <td>NaN</td>\n",
       "      <td>شهد دعباس</td>\n",
       "      <td>NaN</td>\n",
       "      <td>NaN</td>\n",
       "      <td>NaN</td>\n",
       "    </tr>\n",
       "  </tbody>\n",
       "</table>\n",
       "<p>6224 rows × 20 columns</p>\n",
       "</div>"
      ],
      "text/plain": [
       "          ID   ROOT ROOT_NTWS ROOT_1      LEMMA LEMMA_SEARCH       FORM  \\\n",
       "0          1  ء.ب.د       NaN      ء      أَبَد          أبد      أَبَد   \n",
       "1          2  ء.ب.ر       NaN      ء    إِبْرِة         إبرة    إِبْرِة   \n",
       "7          8  ء.ب.ط       NaN      ء     أَبَاط         أباط     أَبَاط   \n",
       "8          9  ء.ب.ط       NaN      ء       بَاط          باط       بَاط   \n",
       "10        11  ء.ب.و       NaN      ء        أَب           أب        أَب   \n",
       "...      ...    ...       ...    ...        ...          ...        ...   \n",
       "36039  36263  ي.م.ن       NaN      ي     يَمِين         يمين     يَمِين   \n",
       "36040  36264  ي.م.ن       NaN      ي     يَمِين         يمين     يَمِين   \n",
       "36044  36268  ي.م.ن       NaN      ي      يُمُن          يمن      يُمُن   \n",
       "36056  36280  ي.و.م       NaN      ي  يَومِيِّة        يومية  يَومِيِّة   \n",
       "36057  36281  ي.و.م       NaN      ي       يَوم          يوم       يَوم   \n",
       "\n",
       "        LEMMA_BW    FORM_BW         CAPHI++ ANALYSIS             GLOSS  \\\n",
       "0          >abad      >abad       2 a b a d  NOUN:MS  eternity;forever   \n",
       "1        <iborip    <iborip       2 i b r e  NOUN:FS  needle;injection   \n",
       "7         >abaAT     >abaAT     2 a b aa t.  NOUN:MS            armpit   \n",
       "8           baAT       baAT         b aa t.  NOUN:MS            armpit   \n",
       "10           >ab        >ab           2 a b  NOUN:MS            father   \n",
       "...          ...        ...             ...      ...               ...   \n",
       "36039     yamiyn     yamiyn      y a m ii n  NOUN:MS             right   \n",
       "36040     yamiyn     yamiyn      y a m ii n  NOUN:MS          vow;oath   \n",
       "36044      yumun      yumun       y u m u n  NOUN:MS          blessing   \n",
       "36056  yawmiy~ip  yawmiy~ip  y oo m i y y e  NOUN:FS     daily_payment   \n",
       "36057       yawm       yawm          y oo m  NOUN:MS               day   \n",
       "\n",
       "                GLOSS_MSA                                      EXAMPLE_USAGE  \\\n",
       "0                     NaN                                                NaN   \n",
       "1         إِبْرَة#حُقْنَة  في إِبْرِة وقعت تحت الكنب دير بالك.#أخذت ابرة ...   \n",
       "7                   إِبْط                            ولك ليش أباطك أسود هيك؟   \n",
       "8                   إِبْط                                                NaN   \n",
       "10                     أب     الله يرحمه أبوه بقى زلمة مليح وبينشد فيه الظهر   \n",
       "...                   ...                                                ...   \n",
       "36039                يمين                                 روتش لك شوي لليمين   \n",
       "36040                 NaN                     احلف يَمِين إِنه مالكاش دخَّل!   \n",
       "36044             نِعْمَة  ألف مبارك الشهر وكل عام وانتو بخير وان شاء الل...   \n",
       "36056  دفع بنظام المياومة                                                NaN   \n",
       "36057               يَوْم                                                NaN   \n",
       "\n",
       "      NOTES SOURCE  ANNOTATOR  Unnamed: 17 Unnamed: 18 Unnamed: 19  \n",
       "0       NaN    NaN  شهد دعباس          NaN         NaN         NaN  \n",
       "1       NaN    NaN  شهد دعباس          NaN         NaN         NaN  \n",
       "7       NaN    NaN  شهد دعباس          NaN         NaN         NaN  \n",
       "8       NaN    NaN  شهد دعباس          NaN         NaN         NaN  \n",
       "10      NaN    NaN  شهد دعباس          NaN         NaN         NaN  \n",
       "...     ...    ...        ...          ...         ...         ...  \n",
       "36039   NaN    NaN  شهد دعباس          NaN         NaN         NaN  \n",
       "36040   NaN    NaN  شهد دعباس          NaN         NaN         NaN  \n",
       "36044   NaN    NaN  شهد دعباس          NaN         NaN         NaN  \n",
       "36056   NaN    NaN  شهد دعباس          NaN         NaN         NaN  \n",
       "36057   NaN    NaN  شهد دعباس          NaN         NaN         NaN  \n",
       "\n",
       "[6224 rows x 20 columns]"
      ]
     },
     "execution_count": 9,
     "metadata": {},
     "output_type": "execute_result"
    }
   ],
   "source": [
    "# 1355 entries with notes => deal with them later\n",
    "# df.loc[df['NOTES'].notnull()].count()\n",
    "\n",
    "# 897 entries with NTWS roots => deal with them later\n",
    "# df.loc[df['ROOT'] == 'NTWS'].count()\n",
    "\n",
    "# df['LEMMA_BW'] == df['FORM_BW'] to exclude weird cases for nouns\n",
    "\n",
    "df_singular_nouns = df.loc[(df['ROOT'] != 'NTWS') & (df['ANALYSIS'].isin(singular_nouns)) & (df['LEMMA_BW'] == df['FORM_BW']) & (df['NOTES'].isnull())]\n",
    "\n",
    "df_singular_nouns"
   ]
  },
  {
   "cell_type": "markdown",
   "id": "3080f048",
   "metadata": {},
   "source": [
    "# Wiktionary format"
   ]
  },
  {
   "cell_type": "code",
   "execution_count": 18,
   "id": "63839e78",
   "metadata": {},
   "outputs": [
    {
     "data": {
      "text/plain": [
       "'\\nPlural:\\n\\n===Noun===\\n{{ajp-noun|head={head}|g=p|tr={transliteration}}}\\n# {{plural of|ajp|{singular}|tr={singulartransliteration}|t={singulargloss}}}\\n# [[definition]]\\n\\nIn singular entry:\\nIf the noun has no plural: |pl=-\\nIf there are multiple plural forms: |pl= and |pl2=, |pl3= // |pltr= and |pl2tr=, |pl3tr=\\n\\n'"
      ]
     },
     "execution_count": 18,
     "metadata": {},
     "output_type": "execute_result"
    }
   ],
   "source": [
    "beginning_file = \"\"\"'''User:A455bcd9/Maknuune/{entry}'''\n",
    "{{{{-start-}}}}\"\"\"\n",
    "\n",
    "template = \"\"\"==South Levantine Arabic==\n",
    "{{{{bulk import|{{{{R:ajp:Maknuune|id={id}}}}}}}}}\n",
    "{{{{ajp-root|{root}}}}}\n",
    "\n",
    "===Pronunciation===\n",
    "\n",
    "* {{{{ajp-IPA|{ipa}}}}}\n",
    "\n",
    "===Noun===\n",
    "{{{{ajp-noun|head={head}|g={gender}|tr={transliteration}{plural}}}}}\n",
    "\n",
    "# {glosses}{example}\n",
    "\n",
    "===References===\n",
    "* {{{{R:ajp:Maknuune|id={id}}}}}\"\"\"\n",
    "\n",
    "end_file=\"{{{{-stop-}}}}\"\n",
    "\n",
    "\"\"\"\n",
    "Plural:\n",
    "\n",
    "===Noun===\n",
    "{{ajp-noun|head={head}|g=p|tr={transliteration}}}\n",
    "# {{plural of|ajp|{singular}|tr={singulartransliteration}|t={singulargloss}}}\n",
    "# [[definition]]\n",
    "\n",
    "In singular entry:\n",
    "If the noun has no plural: |pl=-\n",
    "If there are multiple plural forms: |pl= and |pl2=, |pl3= // |pltr= and |pl2tr=, |pl3tr=\n",
    "\n",
    "\"\"\""
   ]
  },
  {
   "cell_type": "markdown",
   "id": "66f477a2",
   "metadata": {},
   "source": [
    "# Select 10 random entries"
   ]
  },
  {
   "cell_type": "code",
   "execution_count": 11,
   "id": "87769876",
   "metadata": {},
   "outputs": [],
   "source": [
    "# df_singular_nouns = df_singular_nouns.sample(n=1000)"
   ]
  },
  {
   "cell_type": "markdown",
   "id": "43026d83",
   "metadata": {},
   "source": [
    "# CAPHI++ to Wikt"
   ]
  },
  {
   "cell_type": "code",
   "execution_count": 12,
   "id": "71fd7f04",
   "metadata": {},
   "outputs": [
    {
     "name": "stdout",
     "output_type": "stream",
     "text": [
      "mawjūd\n",
      "ʔištāʔ\n"
     ]
    }
   ],
   "source": [
    "for index, row in df_singular_nouns.iterrows():\n",
    "    caphipp = row['CAPHI++'].strip()\n",
    "    ipa = caphipp2ipa(caphipp, mode='wikt')\n",
    "    # print(row['LEMMA'], '=>', caphipp, '=>', ipa)\n",
    "    \n",
    "# test m a w J uu d => mawjūd (موجود)\n",
    "# maw(dʒ)uːd // مَوْ ُجود\n",
    "print(caphipp2ipa('m a w J uu d', mode='wikt'))\n",
    "# 2 i sh t aa Q => ištāʔ (اشتاق)\n",
    "# ʔiʃtaː(q)\n",
    "print(caphipp2ipa('2 i sh t aa Q', mode='wikt'))"
   ]
  },
  {
   "cell_type": "markdown",
   "id": "8ccf5a2c",
   "metadata": {},
   "source": [
    "# Test entries"
   ]
  },
  {
   "cell_type": "code",
   "execution_count": 13,
   "id": "0bf8c94c",
   "metadata": {},
   "outputs": [],
   "source": [
    "test_entries = [\n",
    "    'أب',\n",
    "    'أباط',\n",
    "    'أجار',\n",
    "    'أجرة',\n",
    "    'أخذ',\n",
    "    'ألفة',\n",
    "    'إيجار',\n",
    "    'باط',\n",
    "    'بلع',\n",
    "    'تأثير',\n",
    "    'تأجير',\n",
    "    'تأجيل',\n",
    "    'تجارة',\n",
    "    'خرقة',\n",
    "    'زهاب',\n",
    "    'عنصرية',\n",
    "    'غواصة',\n",
    "    'قذلة',\n",
    "    'كماجة',\n",
    "    'لقمة',\n",
    "    'مهاجر',\n",
    "    'مواخذة',\n",
    "    'شرعية',\n",
    "    'بيئة',\n",
    "    'كيلو',\n",
    "    'مفاد',\n",
    "    'خضرة',\n",
    "    'نظرة',\n",
    "    'فناء',\n",
    "    'إفشاء',\n",
    "    'عجلة',\n",
    "    'صحصحة',\n",
    "    'واعظ',\n",
    "]"
   ]
  },
  {
   "cell_type": "markdown",
   "id": "a3982b17",
   "metadata": {},
   "source": [
    "# Save entries in Wiktionary"
   ]
  },
  {
   "cell_type": "markdown",
   "id": "ad17e485",
   "metadata": {},
   "source": [
    "## Clean glosses"
   ]
  },
  {
   "cell_type": "code",
   "execution_count": 14,
   "id": "427876d1",
   "metadata": {},
   "outputs": [],
   "source": [
    "def clean_gloss(gloss):\n",
    "    # Clean and link glosses\n",
    "    clean_gloss = gloss\n",
    "    \n",
    "    replacements = [\n",
    "        (u\"\\u2018\", \"'\"),\n",
    "        (u\"\\u2019\", \"'\"),\n",
    "        (\"_\", \" \"),\n",
    "        (r' +', ' ',),\n",
    "        ('sb/sth', 'somebody or something'),\n",
    "        (\"(?i) sth\", \" something\"),\n",
    "        (\"(?i) sb\", \" somebody\"),\n",
    "        (r\"(?i)^sb \", \"somebody \"),\n",
    "        (r\"(?i)^sth \", \"something \"),\n",
    "        (\"(?i) some one \", \" someone \"),\n",
    "        (r\"(?i)^a type of \", \"\"),\n",
    "        (r\"(?i)^see phrase(s)?\", \"\"),\n",
    "        (r\"(?i)^a \", \"\"),\n",
    "        (r\"(?i)^an \", \"\"),\n",
    "        (r\"(?i)^The \", \"\"),\n",
    "        (r\"(?i)^It is what \", \"what \"),\n",
    "        (r\"(?i)^It is (a|the) \", \"\"),\n",
    "        (r\"(?i)^It is like (a|the) \", \"\"),\n",
    "        (' that is made of ', ' made of '),\n",
    "        (' that is made from ', ' made from '),\n",
    "        (' a n ', ' an ')\n",
    "    ]\n",
    "    \n",
    "    for replacement in replacements:\n",
    "        clean_gloss = re.sub(replacement[0], replacement[1], clean_gloss)\n",
    "        \n",
    "    clean_gloss = clean_gloss.strip(' .')\n",
    "    \n",
    "    return clean_gloss\n",
    "\n",
    "def link_gloss(gloss):\n",
    "    # clean gloss\n",
    "    linked_gloss = clean_gloss(gloss)\n",
    "    \n",
    "    # if single word, link it\n",
    "    if len(linked_gloss.split(' ')) == 1 and linked_gloss != '':\n",
    "        linked_gloss = u\"[[{g}]]\".format(g=linked_gloss)\n",
    "    elif len(linked_gloss.split(' ')) in [2, 3]:\n",
    "        # Check whether English n-grams (glosses) are already in the Wiktionary and link them\n",
    "        api_url = u\"https://en.wiktionary.org/w/api.php?action=query&titles={entry}&format=json\".format(entry=linked_gloss).replace(' ', '%20')\n",
    "        with urllib.request.urlopen(api_url) as url:\n",
    "            data = json.load(url)\n",
    "            # if the entry exists, link it\n",
    "            if not data.get('query').get('pages').get('-1'):\n",
    "                linked_gloss = u\"[[{g}]]\".format(g=linked_gloss)\n",
    "    \n",
    "    return linked_gloss"
   ]
  },
  {
   "cell_type": "code",
   "execution_count": 15,
   "id": "b512c841",
   "metadata": {},
   "outputs": [
    {
     "data": {
      "text/plain": [
       "'[[take down]]'"
      ]
     },
     "execution_count": 15,
     "metadata": {},
     "output_type": "execute_result"
    }
   ],
   "source": [
    "link_gloss('narrow path')\n",
    "link_gloss('take down')"
   ]
  },
  {
   "cell_type": "code",
   "execution_count": 17,
   "id": "f963bca9",
   "metadata": {},
   "outputs": [
    {
     "data": {
      "text/plain": [
       "'clean_gloss(): OK'"
      ]
     },
     "execution_count": 17,
     "metadata": {},
     "output_type": "execute_result"
    }
   ],
   "source": [
    "def test_clean_gloss():\n",
    "    to_test = [\n",
    "        ('a_type_of_jar_for_keeping_water_cold', 'jar for keeping water cold'),\n",
    "        ('see_phrase', ''),\n",
    "        ('ceramic work.', 'ceramic work'),\n",
    "        ('sb_who_eats_food_off_the_ground', 'somebody who eats food off the ground'),\n",
    "        ('a small ball', 'small ball'),\n",
    "        ('a single person', 'single person'),\n",
    "        ('a narrow path', 'narrow path'),\n",
    "        ('a fat person', 'fat person'),\n",
    "        ('sb/sth', 'somebody or something'),\n",
    "        ('a difficult  situation', 'difficult situation'),\n",
    "        ('the grated food', 'grated food'),\n",
    "        ('the beautiful woman', 'beautiful woman'),\n",
    "        ('a_stone_inside_a_hole', 'stone inside a hole'),\n",
    "        ('an individual.', 'individual'),\n",
    "        ('see phrases', ''),\n",
    "        (\"the_state_of_holding_something_over_sb's_head\", \"state of holding something over somebody's head\"),\n",
    "        ('a_vessel_that_is_usually_of_brass_for_kohl.', 'vessel that is usually of brass for kohl'),\n",
    "        ('It_is_what_is_placed_on_the_back_of_the_walking_animal_for_the_purpose_of_riding_on_it', 'what is placed on the back of the walking animal for the purpose of riding on it'),\n",
    "        ('It_is_the_ritual_animal_sacrifice_of_a_livestock_animal_in_the_first_three_days_of_the_funeral_that_is_believed_to_give_solace_to_the_deceased_person', 'ritual animal sacrifice of a livestock animal in the first three days of the funeral that is believed to give solace to the deceased person'),\n",
    "        ('A_thin_layer_of_freezing_water_in_the_morning,_due_to_lower_temperatures.', 'thin layer of freezing water in the morning, due to lower temperatures'),\n",
    "        ('It_is_a_traditional_type_of_dessert_that_is_made_of_dough,_water_and_molasses._It_is_usually_eaten_with_dried_figs.', 'traditional type of dessert made of dough, water and molasses. It is usually eaten with dried figs'),\n",
    "        ('sth_similar_to_a_container_that_is_made_by_sewing_several_\"7_u_s._u_r\"_together._The_farmers_usually_keep_wheat_in_it.', 'something similar to a container that is made by sewing several \"7 u s. u r\" together. The farmers usually keep wheat in it'),\n",
    "        ('the_person_whose_job_is_to_tell_stories_to_the_people', 'person whose job is to tell stories to the people'),\n",
    "        ('It_is_like_a_basket_made_of_rubber,_or_of_wicker_and_fiber,_and has two loops that are used as handles for carrying it. People use it to carry multiple things.', 'basket made of rubber, or of wicker and fiber, and has two loops that are used as handles for carrying it. People use it to carry multiple things'),\n",
    "        ('traditional Levantine dish that is made of chickpeas', 'traditional Levantine dish made of chickpeas'),\n",
    "        ('small container that is made from skinned sheepskin', 'small container made from skinned sheepskin'),\n",
    "        ('speak_in_a_n_incomprehensible_way', 'speak in an incomprehensible way'),\n",
    "    ]\n",
    "    for unit_test in to_test:\n",
    "        if clean_gloss(unit_test[0]) != unit_test[1]:\n",
    "            raise ValueError('Unit test failed:', clean_gloss(unit_test[0]), unit_test[1])\n",
    "            \n",
    "    return 'clean_gloss(): OK'\n",
    "\n",
    "test_clean_gloss()"
   ]
  },
  {
   "cell_type": "code",
   "execution_count": 29,
   "id": "25a01727",
   "metadata": {},
   "outputs": [
    {
     "name": "stdout",
     "output_type": "stream",
     "text": [
      "==South Levantine Arabic==\n",
      "{{bulk import|{{R:ajp:Maknuune|id=8}}}}\n",
      "{{ajp-root|ء ب ط}}\n",
      "\n",
      "===Pronunciation===\n",
      "\n",
      "* {{ajp-IPA|ʔabāṭ}}\n",
      "\n",
      "===Noun===\n",
      "{{ajp-noun|head=أَبَاط|g=m|tr=ʔabāṭ}}\n",
      "\n",
      "# [[armpit]]\n",
      "#: {{ux|ajp|ولك ليش أباطك أسود هيك؟}}\n",
      "\n",
      "===References===\n",
      "* {{R:ajp:Maknuune|id=8}}\n"
     ]
    },
    {
     "name": "stderr",
     "output_type": "stream",
     "text": [
      "Page [[User:A455bcd9/Maknuune/أباط]] saved\n"
     ]
    },
    {
     "name": "stdout",
     "output_type": "stream",
     "text": [
      "==South Levantine Arabic==\n",
      "{{bulk import|{{R:ajp:Maknuune|id=9}}}}\n",
      "{{ajp-root|ء ب ط}}\n",
      "\n",
      "===Pronunciation===\n",
      "\n",
      "* {{ajp-IPA|bāṭ}}\n",
      "\n",
      "===Noun===\n",
      "{{ajp-noun|head=بَاط|g=m|tr=bāṭ}}\n",
      "\n",
      "# [[armpit]]\n",
      "\n",
      "===References===\n",
      "* {{R:ajp:Maknuune|id=9}}\n"
     ]
    },
    {
     "name": "stderr",
     "output_type": "stream",
     "text": [
      "Sleeping for 9.1 seconds, 2023-01-13 14:55:19\n",
      "Page [[User:A455bcd9/Maknuune/باط]] saved\n"
     ]
    },
    {
     "name": "stdout",
     "output_type": "stream",
     "text": [
      "==South Levantine Arabic==\n",
      "{{bulk import|{{R:ajp:Maknuune|id=11}}}}\n",
      "{{ajp-root|ء ب و}}\n",
      "\n",
      "===Pronunciation===\n",
      "\n",
      "* {{ajp-IPA|ʔab}}\n",
      "\n",
      "===Noun===\n",
      "{{ajp-noun|head=أَب|g=m|tr=ʔab|pl=إِبْوِة|pltr=ʔibwe|pl2=آبَاء|pl2tr=ʔābāʔ|pl3=أَبَّهَات|pl3tr=ʔabbahāt}}\n",
      "\n",
      "# [[father]]\n",
      "#: {{ux|ajp|الله يرحمه أبوه بقى زلمة مليح وبينشد فيه الظهر}}\n",
      "\n",
      "===References===\n",
      "* {{R:ajp:Maknuune|id=11}}\n"
     ]
    },
    {
     "name": "stderr",
     "output_type": "stream",
     "text": [
      "Sleeping for 9.1 seconds, 2023-01-13 14:55:29\n",
      "WARNING: API warning (edit): The value passed for \"text\" contains invalid or non-normalized data. Textual data should be valid, NFC-normalized Unicode without C0 control characters other than HT (\\t), LF (\\n), and CR (\\r).\n",
      "Page [[User:A455bcd9/Maknuune/أب]] saved\n"
     ]
    },
    {
     "name": "stdout",
     "output_type": "stream",
     "text": [
      "==South Levantine Arabic==\n",
      "{{bulk import|{{R:ajp:Maknuune|id=44}}}}\n",
      "{{ajp-root|ء ث ر}}\n",
      "\n",
      "===Pronunciation===\n",
      "\n",
      "* {{ajp-IPA|taʔsīr}}\n",
      "\n",
      "===Noun===\n",
      "{{ajp-noun|head=تَأْثِير|g=m|tr=taʔsīr}}\n",
      "\n",
      "# [[effect]]\n",
      "#: {{ux|ajp|تأْثِير التغيرات المناخية على محاصيلنا كان كبير كثير هالسنة. انضربت الجوافة هالسنة.}}\n",
      "\n",
      "===References===\n",
      "* {{R:ajp:Maknuune|id=44}}\n"
     ]
    },
    {
     "name": "stderr",
     "output_type": "stream",
     "text": [
      "Sleeping for 8.0 seconds, 2023-01-13 14:55:40\n",
      "Page [[User:A455bcd9/Maknuune/تأثير]] saved\n"
     ]
    },
    {
     "name": "stdout",
     "output_type": "stream",
     "text": [
      "==South Levantine Arabic==\n",
      "{{bulk import|{{R:ajp:Maknuune|id=61}}}}\n",
      "{{ajp-root|ء ج ر}}\n",
      "\n",
      "===Pronunciation===\n",
      "\n",
      "* {{ajp-IPA|ʔujra}}\n",
      "\n",
      "===Noun===\n",
      "{{ajp-noun|head=أُجْرَة|g=f|tr=ʔujra}}\n",
      "\n",
      "# [[fare]]\n",
      "#: {{ux|ajp|حدا لم الأُجْرَة يا جماعة؟}}\n",
      "\n",
      "===References===\n",
      "* {{R:ajp:Maknuune|id=61}}\n"
     ]
    },
    {
     "name": "stderr",
     "output_type": "stream",
     "text": [
      "Sleeping for 8.8 seconds, 2023-01-13 14:55:49\n",
      "Page [[User:A455bcd9/Maknuune/أجرة]] saved\n"
     ]
    },
    {
     "name": "stdout",
     "output_type": "stream",
     "text": [
      "==South Levantine Arabic==\n",
      "{{bulk import|{{R:ajp:Maknuune|id=63}}}}\n",
      "{{ajp-root|ء ج ر}}\n",
      "\n",
      "===Pronunciation===\n",
      "\n",
      "* {{ajp-IPA|ʔijār}}\n",
      "\n",
      "===Noun===\n",
      "{{ajp-noun|head=إِيجَار|g=m|tr=ʔijār}}\n",
      "\n",
      "# [[rent]]\n",
      "#: {{ux|ajp|الزلمة رخَّصلي الإِيجار كرمال عيون أبو مرتي}}\n",
      "\n",
      "===References===\n",
      "* {{R:ajp:Maknuune|id=63}}\n"
     ]
    },
    {
     "name": "stderr",
     "output_type": "stream",
     "text": [
      "Sleeping for 8.9 seconds, 2023-01-13 14:55:59\n",
      "WARNING: API warning (edit): The value passed for \"text\" contains invalid or non-normalized data. Textual data should be valid, NFC-normalized Unicode without C0 control characters other than HT (\\t), LF (\\n), and CR (\\r).\n",
      "Page [[User:A455bcd9/Maknuune/إيجار]] saved\n"
     ]
    },
    {
     "name": "stdout",
     "output_type": "stream",
     "text": [
      "==South Levantine Arabic==\n",
      "{{bulk import|{{R:ajp:Maknuune|id=64}}}}\n",
      "{{ajp-root|ء ج ر}}\n",
      "\n",
      "===Pronunciation===\n",
      "\n",
      "* {{ajp-IPA|ʔajār}}\n",
      "\n",
      "===Noun===\n",
      "{{ajp-noun|head=أَجَار|g=m|tr=ʔajār}}\n",
      "\n",
      "# [[rent]]\n",
      "#: {{ux|ajp|قَدَّيش بيوخذ منهم أَجار؟}}\n",
      "\n",
      "===References===\n",
      "* {{R:ajp:Maknuune|id=64}}\n"
     ]
    },
    {
     "name": "stderr",
     "output_type": "stream",
     "text": [
      "Sleeping for 8.9 seconds, 2023-01-13 14:56:09\n",
      "WARNING: API warning (edit): The value passed for \"text\" contains invalid or non-normalized data. Textual data should be valid, NFC-normalized Unicode without C0 control characters other than HT (\\t), LF (\\n), and CR (\\r).\n",
      "Page [[User:A455bcd9/Maknuune/أجار]] saved\n"
     ]
    },
    {
     "name": "stdout",
     "output_type": "stream",
     "text": [
      "==South Levantine Arabic==\n",
      "{{bulk import|{{R:ajp:Maknuune|id=65}}}}\n",
      "{{ajp-root|ء ج ر}}\n",
      "\n",
      "===Pronunciation===\n",
      "\n",
      "* {{ajp-IPA|taʔjīr}}\n",
      "\n",
      "===Noun===\n",
      "{{ajp-noun|head=تَأْجِير|g=m|tr=taʔjīr}}\n",
      "\n",
      "# [[rent]]\n",
      "#: {{ux|ajp|أبوها بيشتغل بتَأجِير السيّارات}}\n",
      "\n",
      "===References===\n",
      "* {{R:ajp:Maknuune|id=65}}\n"
     ]
    },
    {
     "name": "stderr",
     "output_type": "stream",
     "text": [
      "Sleeping for 8.8 seconds, 2023-01-13 14:56:19\n",
      "Page [[User:A455bcd9/Maknuune/تأجير]] saved\n"
     ]
    },
    {
     "name": "stdout",
     "output_type": "stream",
     "text": [
      "==South Levantine Arabic==\n",
      "{{bulk import|{{R:ajp:Maknuune|id=78}}}}\n",
      "{{ajp-root|ء ج ل}}\n",
      "\n",
      "===Pronunciation===\n",
      "\n",
      "* {{ajp-IPA|taʔjīl}}\n",
      "\n",
      "===Noun===\n",
      "{{ajp-noun|head=تَأْجِيل|g=m|tr=taʔjīl}}\n",
      "\n",
      "# [[postponement]]\n",
      "#: {{ux|ajp|أنا مع تَأْجِيل العزومة عبين ما نروق شوي}}\n",
      "\n",
      "===References===\n",
      "* {{R:ajp:Maknuune|id=78}}\n"
     ]
    },
    {
     "name": "stderr",
     "output_type": "stream",
     "text": [
      "Sleeping for 8.9 seconds, 2023-01-13 14:56:29\n",
      "Page [[User:A455bcd9/Maknuune/تأجيل]] saved\n"
     ]
    },
    {
     "name": "stdout",
     "output_type": "stream",
     "text": [
      "==South Levantine Arabic==\n",
      "{{bulk import|{{R:ajp:Maknuune|id=87}}}}\n",
      "{{ajp-root|ء خ ذ}}\n",
      "\n",
      "===Pronunciation===\n",
      "\n",
      "* {{ajp-IPA|ʔaḵid}}\n",
      "\n",
      "===Noun===\n",
      "{{ajp-noun|head=أَخِذ|g=m|tr=ʔaḵid}}\n",
      "\n",
      "# [[taking]]\n",
      "#: {{ux|ajp|هو متعود عالأَخِذ دايماً}}\n",
      "\n",
      "===References===\n",
      "* {{R:ajp:Maknuune|id=87}}\n"
     ]
    },
    {
     "name": "stderr",
     "output_type": "stream",
     "text": [
      "Sleeping for 9.0 seconds, 2023-01-13 14:56:39\n",
      "Page [[User:A455bcd9/Maknuune/أخذ]] saved\n"
     ]
    },
    {
     "name": "stdout",
     "output_type": "stream",
     "text": [
      "==South Levantine Arabic==\n",
      "{{bulk import|{{R:ajp:Maknuune|id=107}}}}\n",
      "{{ajp-root|ء خ ذ}}\n",
      "\n",
      "===Pronunciation===\n",
      "\n",
      "* {{ajp-IPA|ʔaḵd}}\n",
      "\n",
      "===Noun===\n",
      "{{ajp-noun|head=أَخْذ|g=m|tr=ʔaḵd}}\n",
      "\n",
      "# taking something\n",
      "#: {{ux|ajp|هاي المرة كرنيبة متعودة عالأخْذ بس. مستحيل تشوف منها لا عزومة ولا سخام!}}\n",
      "\n",
      "===References===\n",
      "* {{R:ajp:Maknuune|id=107}}\n"
     ]
    },
    {
     "name": "stderr",
     "output_type": "stream",
     "text": [
      "Sleeping for 8.3 seconds, 2023-01-13 14:56:50\n",
      "Page [[User:A455bcd9/Maknuune/أخذ]] saved\n"
     ]
    },
    {
     "name": "stdout",
     "output_type": "stream",
     "text": [
      "==South Levantine Arabic==\n",
      "{{bulk import|{{R:ajp:Maknuune|id=108}}}}\n",
      "{{ajp-root|ء خ ذ}}\n",
      "\n",
      "===Pronunciation===\n",
      "\n",
      "* {{ajp-IPA|mwāḵaze}}\n",
      "\n",
      "===Noun===\n",
      "{{ajp-noun|head=مْوَاخَذِة|g=f|tr=mwāḵaze}}\n",
      "\n",
      "# [[blaming]]\n",
      "\n",
      "===References===\n",
      "* {{R:ajp:Maknuune|id=108}}\n"
     ]
    },
    {
     "name": "stderr",
     "output_type": "stream",
     "text": [
      "Sleeping for 9.0 seconds, 2023-01-13 14:56:59\n",
      "Page [[User:A455bcd9/Maknuune/مواخذة]] saved\n"
     ]
    },
    {
     "name": "stdout",
     "output_type": "stream",
     "text": [
      "==South Levantine Arabic==\n",
      "{{bulk import|{{R:ajp:Maknuune|id=454}}}}\n",
      "{{ajp-root|ء ل ف}}\n",
      "\n",
      "===Pronunciation===\n",
      "\n",
      "* {{ajp-IPA|ʔulfe}}\n",
      "\n",
      "===Noun===\n",
      "{{ajp-noun|head=أُلْفِة|g=f|tr=ʔulfe}}\n",
      "\n",
      "# [[affinity]]\n",
      "#: {{ux|ajp|كان بينا أُلْفِة ومودِّة الحمدلله}}\n",
      "\n",
      "===References===\n",
      "* {{R:ajp:Maknuune|id=454}}\n"
     ]
    },
    {
     "name": "stderr",
     "output_type": "stream",
     "text": [
      "Sleeping for 6.5 seconds, 2023-01-13 14:57:12\n",
      "WARNING: API warning (edit): The value passed for \"text\" contains invalid or non-normalized data. Textual data should be valid, NFC-normalized Unicode without C0 control characters other than HT (\\t), LF (\\n), and CR (\\r).\n",
      "Page [[User:A455bcd9/Maknuune/ألفة]] saved\n"
     ]
    },
    {
     "name": "stdout",
     "output_type": "stream",
     "text": [
      "==South Levantine Arabic==\n",
      "{{bulk import|{{R:ajp:Maknuune|id=2198}}}}\n",
      "{{ajp-root|ب ل ع}}\n",
      "\n",
      "===Pronunciation===\n",
      "\n",
      "* {{ajp-IPA|baliʕ}}\n",
      "\n",
      "===Noun===\n",
      "{{ajp-noun|head=بَلِع|g=m|tr=baliʕ}}\n",
      "\n",
      "# [[swallow]]\n",
      "#: {{ux|ajp|بس مرضت البَلِع عندي كان بالزور}}\n",
      "\n",
      "===References===\n",
      "* {{R:ajp:Maknuune|id=2198}}\n"
     ]
    },
    {
     "name": "stderr",
     "output_type": "stream",
     "text": [
      "Page [[User:A455bcd9/Maknuune/بلع]] saved\n"
     ]
    },
    {
     "name": "stdout",
     "output_type": "stream",
     "text": [
      "==South Levantine Arabic==\n",
      "{{bulk import|{{R:ajp:Maknuune|id=2676}}}}\n",
      "{{ajp-root|ب ي ء}}\n",
      "\n",
      "===Pronunciation===\n",
      "\n",
      "* {{ajp-IPA|bīʔa}}\n",
      "\n",
      "===Noun===\n",
      "{{ajp-noun|head=بِيئَة|g=f|tr=bīʔa}}\n",
      "\n",
      "# [[atmosphere]], [[environment]]\n",
      "#: {{ux|ajp|بِيئَة العمل متعبة عنا}}\n",
      "\n",
      "===References===\n",
      "* {{R:ajp:Maknuune|id=2676}}\n"
     ]
    },
    {
     "name": "stderr",
     "output_type": "stream",
     "text": [
      "Sleeping for 3.3 seconds, 2023-01-13 14:57:49\n",
      "Page [[User:A455bcd9/Maknuune/بيئة]] saved\n"
     ]
    },
    {
     "name": "stdout",
     "output_type": "stream",
     "text": [
      "==South Levantine Arabic==\n",
      "{{bulk import|{{R:ajp:Maknuune|id=2860}}}}\n",
      "{{ajp-root|ت ج ر}}\n",
      "\n",
      "===Pronunciation===\n",
      "\n",
      "* {{ajp-IPA|tijāra}}\n",
      "\n",
      "===Noun===\n",
      "{{ajp-noun|head=تِجَارَة|g=f|tr=tijāra}}\n",
      "\n",
      "# [[trade]]\n",
      "#: {{ux|ajp|الموضوع تِجارَة يعني ربح أو خسارة}}\n",
      "\n",
      "===References===\n",
      "* {{R:ajp:Maknuune|id=2860}}\n"
     ]
    },
    {
     "name": "stderr",
     "output_type": "stream",
     "text": [
      "Sleeping for 7.6 seconds, 2023-01-13 14:57:55\n",
      "Page [[User:A455bcd9/Maknuune/تجارة]] saved\n"
     ]
    },
    {
     "name": "stdout",
     "output_type": "stream",
     "text": [
      "==South Levantine Arabic==\n",
      "{{bulk import|{{R:ajp:Maknuune|id=7985}}}}\n",
      "{{ajp-root|خ ر ق}}\n",
      "\n",
      "===Pronunciation===\n",
      "\n",
      "* {{ajp-IPA|khirqa, khirka}}\n",
      "\n",
      "===Noun===\n",
      "{{ajp-noun|head=خِرْقَة|g=f|tr=khirqa, khirka|pl=خِرَق|pltr=khiraq, khirak}}\n",
      "\n",
      "# worn out piece of cloth that is used in cleaning stuff\n",
      "#: {{ux|ajp|جيبي خرقَة امسحي فيها الطاولة والكراسي}}\n",
      "\n",
      "===References===\n",
      "* {{R:ajp:Maknuune|id=7985}}\n"
     ]
    },
    {
     "name": "stderr",
     "output_type": "stream",
     "text": [
      "Page [[User:A455bcd9/Maknuune/خرقة]] saved\n"
     ]
    },
    {
     "name": "stdout",
     "output_type": "stream",
     "text": [
      "==South Levantine Arabic==\n",
      "{{bulk import|{{R:ajp:Maknuune|id=7988}}}}\n",
      "{{ajp-root|خ ر ق}}\n",
      "\n",
      "===Pronunciation===\n",
      "\n",
      "* {{ajp-IPA|ḵirka}}\n",
      "\n",
      "===Noun===\n",
      "{{ajp-noun|head=خِرْقَة|g=f|tr=ḵirka|pl=خِرَق|pltr=khiraq, khirak}}\n",
      "\n",
      "# [[headscarf]]\n",
      "#: {{ux|ajp|ناوليني خَِرْقَة اجوا الزلام}}\n",
      "\n",
      "===References===\n",
      "* {{R:ajp:Maknuune|id=7988}}\n"
     ]
    },
    {
     "name": "stderr",
     "output_type": "stream",
     "text": [
      "Sleeping for 9.0 seconds, 2023-01-13 14:58:56\n",
      "Page [[User:A455bcd9/Maknuune/خرقة]] saved\n"
     ]
    },
    {
     "name": "stdout",
     "output_type": "stream",
     "text": [
      "==South Levantine Arabic==\n",
      "{{bulk import|{{R:ajp:Maknuune|id=8288}}}}\n",
      "{{ajp-root|خ ض ر}}\n",
      "\n",
      "===Pronunciation===\n",
      "\n",
      "* {{ajp-IPA|ḵuḍra}}\n",
      "\n",
      "===Noun===\n",
      "{{ajp-noun|head=خُضْرَة|g=f|tr=ḵuḍra}}\n",
      "\n",
      "# [[vegetables]], [[greens]], [[greenery]]\n",
      "#: {{ux|ajp|مش جايبة معي خُضْرَة هالأسبوع}}\n",
      "\n",
      "===References===\n",
      "* {{R:ajp:Maknuune|id=8288}}\n"
     ]
    },
    {
     "name": "stderr",
     "output_type": "stream",
     "text": [
      "Sleeping for 6.3 seconds, 2023-01-13 14:59:09\n",
      "Page [[User:A455bcd9/Maknuune/خضرة]] saved\n"
     ]
    },
    {
     "name": "stdout",
     "output_type": "stream",
     "text": [
      "==South Levantine Arabic==\n",
      "{{bulk import|{{R:ajp:Maknuune|id=13256}}}}\n",
      "{{ajp-root|ز ه ب}}\n",
      "\n",
      "===Pronunciation===\n",
      "\n",
      "* {{ajp-IPA|zhāb}}\n",
      "\n",
      "===Noun===\n",
      "{{ajp-noun|head=زْهَاب|g=m|tr=zhāb}}\n",
      "\n",
      "# [[trousseau]]\n",
      "#: {{ux|ajp|جبتوا معكم زْهاب العروسة كله؟}}\n",
      "\n",
      "===References===\n",
      "* {{R:ajp:Maknuune|id=13256}}\n"
     ]
    },
    {
     "name": "stderr",
     "output_type": "stream",
     "text": [
      "Page [[User:A455bcd9/Maknuune/زهاب]] saved\n"
     ]
    },
    {
     "name": "stdout",
     "output_type": "stream",
     "text": [
      "==South Levantine Arabic==\n",
      "{{bulk import|{{R:ajp:Maknuune|id=16091}}}}\n",
      "{{ajp-root|ش ر ع}}\n",
      "\n",
      "===Pronunciation===\n",
      "\n",
      "* {{ajp-IPA|šarʕijje}}\n",
      "\n",
      "===Noun===\n",
      "{{ajp-noun|head=شَرْعِيِّة|g=f|tr=šarʕijje}}\n",
      "\n",
      "# [[legality]], [[legitimacy]]\n",
      "\n",
      "===References===\n",
      "* {{R:ajp:Maknuune|id=16091}}\n"
     ]
    },
    {
     "name": "stderr",
     "output_type": "stream",
     "text": [
      "WARNING: API warning (edit): The value passed for \"text\" contains invalid or non-normalized data. Textual data should be valid, NFC-normalized Unicode without C0 control characters other than HT (\\t), LF (\\n), and CR (\\r).\n",
      "Page [[User:A455bcd9/Maknuune/شرعية]] saved\n"
     ]
    },
    {
     "name": "stdout",
     "output_type": "stream",
     "text": [
      "==South Levantine Arabic==\n",
      "{{bulk import|{{R:ajp:Maknuune|id=17513}}}}\n",
      "{{ajp-root|ص ح ص ح}}\n",
      "\n",
      "===Pronunciation===\n",
      "\n",
      "* {{ajp-IPA|ṣaḥṣaḥa}}\n",
      "\n",
      "===Noun===\n",
      "{{ajp-noun|head=صَحْصَحَة|g=f|tr=ṣaḥṣaḥa}}\n",
      "\n",
      "# [[unsleeping]], [[wakeful]], [[up]]\n",
      "\n",
      "===References===\n",
      "* {{R:ajp:Maknuune|id=17513}}\n"
     ]
    },
    {
     "name": "stderr",
     "output_type": "stream",
     "text": [
      "Page [[User:A455bcd9/Maknuune/صحصحة]] saved\n"
     ]
    },
    {
     "name": "stdout",
     "output_type": "stream",
     "text": [
      "==South Levantine Arabic==\n",
      "{{bulk import|{{R:ajp:Maknuune|id=20194}}}}\n",
      "{{ajp-root|ع ج ل}}\n",
      "\n",
      "===Pronunciation===\n",
      "\n",
      "* {{ajp-IPA|ʕajale}}\n",
      "\n",
      "===Noun===\n",
      "{{ajp-noun|head=عَجَلِة|g=f|tr=ʕajale}}\n",
      "\n",
      "# [[haste]], [[hurry]], [[tires]], [[wheels]], [[wheel]], [[tire]]\n",
      "#: {{ux|ajp|لشو العَجَلِة بالله؟ هي العروس طايرة؟}}\n",
      "\n",
      "===References===\n",
      "* {{R:ajp:Maknuune|id=20194}}\n"
     ]
    },
    {
     "name": "stderr",
     "output_type": "stream",
     "text": [
      "Page [[User:A455bcd9/Maknuune/عجلة]] saved\n"
     ]
    },
    {
     "name": "stdout",
     "output_type": "stream",
     "text": [
      "==South Levantine Arabic==\n",
      "{{bulk import|{{R:ajp:Maknuune|id=21907}}}}\n",
      "{{ajp-root|ع ن ص ر}}\n",
      "\n",
      "===Pronunciation===\n",
      "\n",
      "* {{ajp-IPA|ʕunṣurijje}}\n",
      "\n",
      "===Noun===\n",
      "{{ajp-noun|head=عُنْصُرِيِّة|g=m|tr=ʕunṣurijje}}\n",
      "\n",
      "# [[racism]]\n",
      "\n",
      "===References===\n",
      "* {{R:ajp:Maknuune|id=21907}}\n"
     ]
    },
    {
     "name": "stderr",
     "output_type": "stream",
     "text": [
      "WARNING: API warning (edit): The value passed for \"text\" contains invalid or non-normalized data. Textual data should be valid, NFC-normalized Unicode without C0 control characters other than HT (\\t), LF (\\n), and CR (\\r).\n",
      "Page [[User:A455bcd9/Maknuune/عنصرية]] saved\n"
     ]
    },
    {
     "name": "stdout",
     "output_type": "stream",
     "text": [
      "==South Levantine Arabic==\n",
      "{{bulk import|{{R:ajp:Maknuune|id=23009}}}}\n",
      "{{ajp-root|غ و ص}}\n",
      "\n",
      "===Pronunciation===\n",
      "\n",
      "* {{ajp-IPA|ḡawwāṣa}}\n",
      "\n",
      "===Noun===\n",
      "{{ajp-noun|head=غَوَّاصَة|g=f|tr=ḡawwāṣa}}\n",
      "\n",
      "# [[submarine]]\n",
      "#: {{ux|ajp|عمرك ركبت غَوّاصَة بحياتك؟}}\n",
      "\n",
      "===References===\n",
      "* {{R:ajp:Maknuune|id=23009}}\n"
     ]
    },
    {
     "name": "stderr",
     "output_type": "stream",
     "text": [
      "WARNING: API warning (edit): The value passed for \"text\" contains invalid or non-normalized data. Textual data should be valid, NFC-normalized Unicode without C0 control characters other than HT (\\t), LF (\\n), and CR (\\r).\n",
      "Page [[User:A455bcd9/Maknuune/غواصة]] saved\n"
     ]
    },
    {
     "name": "stdout",
     "output_type": "stream",
     "text": [
      "==South Levantine Arabic==\n",
      "{{bulk import|{{R:ajp:Maknuune|id=24062}}}}\n",
      "{{ajp-root|ف ش ي}}\n",
      "\n",
      "===Pronunciation===\n",
      "\n",
      "* {{ajp-IPA|ʔifšāʔ}}\n",
      "\n",
      "===Noun===\n",
      "{{ajp-noun|head=إِفْشَاء|g=m|tr=ʔifšāʔ}}\n",
      "\n",
      "# [[divulging]], [[spreading]]\n",
      "#: {{ux|ajp|ديننا حثنا عالصيام، الصلاة، الاحترام، إِفْشاء السلام. مش إِفْشاء الأسرار!}}\n",
      "\n",
      "===References===\n",
      "* {{R:ajp:Maknuune|id=24062}}\n"
     ]
    },
    {
     "name": "stderr",
     "output_type": "stream",
     "text": [
      "Page [[User:A455bcd9/Maknuune/إفشاء]] saved\n"
     ]
    },
    {
     "name": "stdout",
     "output_type": "stream",
     "text": [
      "==South Levantine Arabic==\n",
      "{{bulk import|{{R:ajp:Maknuune|id=24791}}}}\n",
      "{{ajp-root|ف ن ي}}\n",
      "\n",
      "===Pronunciation===\n",
      "\n",
      "* {{ajp-IPA|fanāʔ}}\n",
      "\n",
      "===Noun===\n",
      "{{ajp-noun|head=فَنَاء|g=m|tr=fanāʔ}}\n",
      "\n",
      "# [[yard]], [[annihilation]]\n",
      "\n",
      "===References===\n",
      "* {{R:ajp:Maknuune|id=24791}}\n"
     ]
    },
    {
     "name": "stderr",
     "output_type": "stream",
     "text": [
      "Page [[User:A455bcd9/Maknuune/فناء]] saved\n"
     ]
    },
    {
     "name": "stdout",
     "output_type": "stream",
     "text": [
      "==South Levantine Arabic==\n",
      "{{bulk import|{{R:ajp:Maknuune|id=24949}}}}\n",
      "{{ajp-root|ف ي د}}\n",
      "\n",
      "===Pronunciation===\n",
      "\n",
      "* {{ajp-IPA|mafād}}\n",
      "\n",
      "===Noun===\n",
      "{{ajp-noun|head=مَفَاد|g=m|tr=mafād}}\n",
      "\n",
      "# [[meaning]], [[content]]\n",
      "\n",
      "===References===\n",
      "* {{R:ajp:Maknuune|id=24949}}\n"
     ]
    },
    {
     "name": "stderr",
     "output_type": "stream",
     "text": [
      "Sleeping for 7.6 seconds, 2023-01-13 15:02:32\n",
      "Page [[User:A455bcd9/Maknuune/مفاد]] saved\n"
     ]
    },
    {
     "name": "stdout",
     "output_type": "stream",
     "text": [
      "==South Levantine Arabic==\n",
      "{{bulk import|{{R:ajp:Maknuune|id=25407}}}}\n",
      "{{ajp-root|ق ذ ل}}\n",
      "\n",
      "===Pronunciation===\n",
      "\n",
      "* {{ajp-IPA|quḏle}}\n",
      "\n",
      "===Noun===\n",
      "{{ajp-noun|head=قُذْلِة|g=f|tr=quḏle|pl=قُذَل|pltr=quḏal}}\n",
      "\n",
      "# [[forelock]]\n",
      "#: {{ux|ajp|قُذْلتك ععيونك ارفعيها ولا بتنحولي}}\n",
      "\n",
      "===References===\n",
      "* {{R:ajp:Maknuune|id=25407}}\n"
     ]
    },
    {
     "name": "stderr",
     "output_type": "stream",
     "text": [
      "Page [[User:A455bcd9/Maknuune/قذلة]] saved\n"
     ]
    },
    {
     "name": "stdout",
     "output_type": "stream",
     "text": [
      "==South Levantine Arabic==\n",
      "{{bulk import|{{R:ajp:Maknuune|id=28324}}}}\n",
      "{{ajp-root|ك م ج}}\n",
      "\n",
      "===Pronunciation===\n",
      "\n",
      "* {{ajp-IPA|kmāje}}\n",
      "\n",
      "===Noun===\n",
      "{{ajp-noun|head=كْمَاجِة|g=f|tr=kmāje|pl=كَمَايِج|pltr=kamājij}}\n",
      "\n",
      "# [[loaf]]\n",
      "#: {{ux|ajp|ناولني خمس كْماجات بدي أرنخهن بمرقة جاج وأفردهن عالسدر}}\n",
      "\n",
      "===References===\n",
      "* {{R:ajp:Maknuune|id=28324}}\n"
     ]
    },
    {
     "name": "stderr",
     "output_type": "stream",
     "text": [
      "Page [[User:A455bcd9/Maknuune/كماجة]] saved\n"
     ]
    },
    {
     "name": "stdout",
     "output_type": "stream",
     "text": [
      "==South Levantine Arabic==\n",
      "{{bulk import|{{R:ajp:Maknuune|id=28637}}}}\n",
      "{{ajp-root|ك ي ل}}\n",
      "\n",
      "===Pronunciation===\n",
      "\n",
      "* {{ajp-IPA|kīlu}}\n",
      "\n",
      "===Noun===\n",
      "{{ajp-noun|head=كِيلُو|g=m|tr=kīlu}}\n",
      "\n",
      "# [[kilogram]], [[kilo]]\n",
      "\n",
      "===References===\n",
      "* {{R:ajp:Maknuune|id=28637}}\n"
     ]
    },
    {
     "name": "stderr",
     "output_type": "stream",
     "text": [
      "Page [[User:A455bcd9/Maknuune/كيلو]] saved\n"
     ]
    },
    {
     "name": "stdout",
     "output_type": "stream",
     "text": [
      "==South Levantine Arabic==\n",
      "{{bulk import|{{R:ajp:Maknuune|id=29632}}}}\n",
      "{{ajp-root|ل ق م}}\n",
      "\n",
      "===Pronunciation===\n",
      "\n",
      "* {{ajp-IPA|luʔme}}\n",
      "\n",
      "===Noun===\n",
      "{{ajp-noun|head=لُقْمِة|g=f|tr=luʔme|pl=لُقَم|pltr=luʔam}}\n",
      "\n",
      "# [[bite]]\n",
      "\n",
      "===References===\n",
      "* {{R:ajp:Maknuune|id=29632}}\n"
     ]
    },
    {
     "name": "stderr",
     "output_type": "stream",
     "text": [
      "Page [[User:A455bcd9/Maknuune/لقمة]] saved\n"
     ]
    },
    {
     "name": "stdout",
     "output_type": "stream",
     "text": [
      "==South Levantine Arabic==\n",
      "{{bulk import|{{R:ajp:Maknuune|id=32616}}}}\n",
      "{{ajp-root|ن ظ ر}}\n",
      "\n",
      "===Pronunciation===\n",
      "\n",
      "* {{ajp-IPA|naẓra}}\n",
      "\n",
      "===Noun===\n",
      "{{ajp-noun|head=نَظْرَة|g=f|tr=naẓra}}\n",
      "\n",
      "# [[glance]], [[look]]\n",
      "\n",
      "===References===\n",
      "* {{R:ajp:Maknuune|id=32616}}\n"
     ]
    },
    {
     "name": "stderr",
     "output_type": "stream",
     "text": [
      "Page [[User:A455bcd9/Maknuune/نظرة]] saved\n"
     ]
    },
    {
     "name": "stdout",
     "output_type": "stream",
     "text": [
      "==South Levantine Arabic==\n",
      "{{bulk import|{{R:ajp:Maknuune|id=34062}}}}\n",
      "{{ajp-root|ه ج ر}}\n",
      "\n",
      "===Pronunciation===\n",
      "\n",
      "* {{ajp-IPA|muhājir}}\n",
      "\n",
      "===Noun===\n",
      "{{ajp-noun|head=مُهَاجِر|g=m|tr=muhājir}}\n",
      "\n",
      "# [[immigrant]]\n",
      "\n",
      "===References===\n",
      "* {{R:ajp:Maknuune|id=34062}}\n"
     ]
    },
    {
     "name": "stderr",
     "output_type": "stream",
     "text": [
      "Page [[User:A455bcd9/Maknuune/مهاجر]] saved\n"
     ]
    },
    {
     "name": "stdout",
     "output_type": "stream",
     "text": [
      "==South Levantine Arabic==\n",
      "{{bulk import|{{R:ajp:Maknuune|id=35743}}}}\n",
      "{{ajp-root|و ع ظ}}\n",
      "\n",
      "===Pronunciation===\n",
      "\n",
      "* {{ajp-IPA|wāʕiẓ}}\n",
      "\n",
      "===Noun===\n",
      "{{ajp-noun|head=وَاعِظ|g=m|tr=wāʕiẓ}}\n",
      "\n",
      "# [[sheikh]], [[priest]]\n",
      "#: {{ux|ajp|جابوا واعِظة على عزا عمتي الله يرحمها}}\n",
      "\n",
      "===References===\n",
      "* {{R:ajp:Maknuune|id=35743}}\n"
     ]
    },
    {
     "name": "stderr",
     "output_type": "stream",
     "text": [
      "Page [[User:A455bcd9/Maknuune/واعظ]] saved\n"
     ]
    },
    {
     "name": "stdout",
     "output_type": "stream",
     "text": [
      "end\n"
     ]
    }
   ],
   "source": [
    "site = pywikibot.Site()\n",
    "i = 0\n",
    "\n",
    "for index, row in df_singular_nouns.iterrows():\n",
    "    # remove _[auto] from entries generated automatically from other entries\n",
    "    clean_gloss_row = row['GLOSS'].replace('_[auto]', '').strip()\n",
    "    # filter out more complex glosses\n",
    "    entry_values = {}\n",
    "    entry_values['id'] = row['ID']\n",
    "\n",
    "    entry_values['entry'] = row['LEMMA_SEARCH'].strip()\n",
    "    entry_values['root'] = row['ROOT'].strip().replace('.', ' ')\n",
    "    entry_values['head'] = row['FORM'].strip()\n",
    "    entry_values['gender'] = 'f' if row['ANALYSIS'] == 'NOUN:FS' else 'm'\n",
    "\n",
    "    caphipp = row['CAPHI++'].strip()\n",
    "    entry_values['transliteration'] = caphipp2ipa(caphipp, mode='wikt')\n",
    "    entry_values['ipa'] = entry_values['transliteration']\n",
    "    \n",
    "    plurals = df.loc[(df['LEMMA'] == row['LEMMA']) & (df['ANALYSIS'] == 'NOUN:P')]\n",
    "    \n",
    "    n_plurals = len(plurals.index)\n",
    "    if n_plurals == 0:\n",
    "        # No plurals in the database for this singular noun\n",
    "        entry_values['plural'] = ''\n",
    "    else:\n",
    "        # At least one plural in the database for this singular noun\n",
    "        plurals_list = []\n",
    "        j = 1\n",
    "        for index_pl, row_pl in plurals.iterrows():\n",
    "            plurals_list.append(u\"|pl{i}={pl}|pl{i}tr={pltr}\".format(\n",
    "                i= str(j) if j > 1 else '',\n",
    "                pl=row_pl['FORM'].strip(),\n",
    "                pltr=caphipp2ipa(row_pl['CAPHI++'].strip(), mode='wikt')))\n",
    "            j += 1\n",
    "\n",
    "        entry_values['plural'] = ''.join(plurals_list)        \n",
    "\n",
    "    entry_values['example'] = ''\n",
    "    if not pd.isna(row['EXAMPLE_USAGE']):\n",
    "        example = row['EXAMPLE_USAGE'].strip()\n",
    "        # Fill example if not null\n",
    "        if example != '':\n",
    "            entry_values['example'] = '\\n#: {{{{ux|ajp|{example}}}}}'.format(example=example)\n",
    "\n",
    "    # Separate glosses\n",
    "    glosses = set(clean_gloss_row.split(';'))\n",
    "    \n",
    "    # Do not add empty glosses\n",
    "    if len(glosses) == 1:\n",
    "        if link_gloss(list(glosses)[0]) == '':\n",
    "            continue\n",
    "        \n",
    "    # clean glosses and link simple ones\n",
    "    entry_values['glosses'] = ', '.join([link_gloss(x) for x in glosses])\n",
    "\n",
    "    new_entry = template.format(**entry_values)\n",
    "\n",
    "    to_save = entry_values['entry'] in test_entries\n",
    "    \n",
    "    if to_save:\n",
    "        page_name = u\"User:A455bcd9/Maknuune/{entry}\".format(entry=entry_values['entry'])\n",
    "        page = pywikibot.Page(site, page_name)\n",
    "\n",
    "        page.text = new_entry\n",
    "        print(new_entry)\n",
    "        page.save(u\"Entries with plural\")\n",
    "        # i += 1    \n",
    "            \n",
    "    if i > 20:\n",
    "        break\n",
    "\n",
    "print('end')"
   ]
  },
  {
   "cell_type": "code",
   "execution_count": null,
   "id": "6a662a06",
   "metadata": {},
   "outputs": [],
   "source": [
    "# add plurals\n"
   ]
  },
  {
   "cell_type": "code",
   "execution_count": 42,
   "id": "5560c28c",
   "metadata": {},
   "outputs": [
    {
     "data": {
      "text/plain": [
       "'\\nissues:\\n\\nsee_phrases\\nsee_phrase:\\n33175\\n33177 \\n33179 \\n735\\n968\\n1212\\n2202\\n13973\\n\\nNew line:\\n2955 state of being filled to the max or stuffed\\n6194 traditional dish that is made of unripe grapes and lentils\\n35498 being handsome\\n'"
      ]
     },
     "execution_count": 42,
     "metadata": {},
     "output_type": "execute_result"
    }
   ],
   "source": [
    "\"\"\"\n",
    "To check: \n",
    "\n",
    "New line:\n",
    "2955 state of being filled to the max or stuffed\n",
    "6194 traditional dish that is made of unripe grapes and lentils\n",
    "35498 being handsome\n",
    "\"\"\""
   ]
  }
 ],
 "metadata": {
  "kernelspec": {
   "display_name": "Python 3",
   "language": "python",
   "name": "python3"
  },
  "language_info": {
   "codemirror_mode": {
    "name": "ipython",
    "version": 3
   },
   "file_extension": ".py",
   "mimetype": "text/x-python",
   "name": "python",
   "nbconvert_exporter": "python",
   "pygments_lexer": "ipython3",
   "version": "3.8.8"
  }
 },
 "nbformat": 4,
 "nbformat_minor": 5
}
